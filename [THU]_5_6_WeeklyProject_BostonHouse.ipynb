{
  "nbformat": 4,
  "nbformat_minor": 0,
  "metadata": {
    "colab": {
      "name": "BostonHousing",
      "provenance": [],
      "collapsed_sections": [],
      "toc_visible": true
    },
    "kernelspec": {
      "name": "python3",
      "display_name": "Python 3"
    },
    "language_info": {
      "name": "python"
    }
  },
  "cells": [
    {
      "cell_type": "markdown",
      "metadata": {
        "id": "Sh5OPHm9f9sA"
      },
      "source": [
        "# Weekly Project: Predicting Boston Housing prices"
      ]
    },
    {
      "cell_type": "markdown",
      "metadata": {
        "id": "poI7w8SGghl8"
      },
      "source": [
        "In this project, you will create, evaluate the performance and predictive power of your model on data collected from homes in suburbs of Boston, Massachusetts\n",
        "\n",
        "The dataset for this project originates from the UCI Machine Learning Repository. The Boston housing data was collected in 1978 and each of the 506 entries represent aggregated data about 14 features for homes from various suburbs in Boston, Massachusetts. **Data preprocessing has been applied to your dataset**. For the purposes of this project, the following preprocessing steps have been made to the dataset:\n",
        "\n",
        "- 16 data points have an 'MEDV' value of 50.0. These data points likely contain missing or censored values and have been removed.\n",
        "- 1 data point has an 'RM' value of 8.78. This data point can be considered an outlier and has been removed.\n",
        "- The features 'RM', 'LSTAT', 'PTRATIO', and 'MEDV' are essential. The remaining non-relevant features have been excluded.\n",
        "- The feature 'MEDV' has been multiplicatively scaled to account for 35 years of market inflation.\n",
        "\n",
        "Your task is to apply a machine learning model of your choice to predict the price of houses in a Boston neighborhood (which is column 'MEDV')\n"
      ]
    },
    {
      "cell_type": "markdown",
      "metadata": {
        "id": "nJ1Wd-C_sKli"
      },
      "source": [
        "The dataset can be accessed here: https://raw.githubusercontent.com/anhquan0412/boston_housing/master/housing.csv\n"
      ]
    },
    {
      "cell_type": "markdown",
      "metadata": {
        "id": "2rMOGC22m8N6"
      },
      "source": [
        "Here are the few steps you can follow"
      ]
    },
    {
      "cell_type": "markdown",
      "metadata": {
        "id": "d0LPZm_0NiMG"
      },
      "source": [
        "***IMPORT***"
      ]
    },
    {
      "cell_type": "code",
      "metadata": {
        "id": "7QBuFPXqNhz9"
      },
      "source": [
        "import pandas as pd\n",
        "import numpy as np\n",
        "import seaborn as sns\n",
        "import matplotlib.pyplot as plt\n",
        "\n",
        "from sklearn.linear_model import LinearRegression\n",
        "from sklearn.model_selection import train_test_split\n",
        "from sklearn.preprocessing import StandardScaler\n",
        "from sklearn.preprocessing import MinMaxScaler\n",
        "from sklearn.preprocessing import PolynomialFeatures\n",
        "from sklearn.metrics import mean_squared_error\n",
        "from sklearn.metrics import mean_absolute_error\n",
        "from sklearn.model_selection import cross_val_score\n",
        "from sklearn.model_selection import KFold\n",
        "from sklearn.model_selection import GridSearchCV\n",
        "from sklearn.model_selection import validation_curve\n",
        "from sklearn.pipeline import Pipeline\n",
        "\n",
        "sns.set_style(\"whitegrid\")\n",
        "np.random.seed(42)"
      ],
      "execution_count": null,
      "outputs": []
    },
    {
      "cell_type": "code",
      "metadata": {
        "colab": {
          "base_uri": "https://localhost:8080/",
          "height": 419
        },
        "id": "jGGk7l2ON5HZ",
        "outputId": "ea647d94-c4cb-4f18-99c2-a5fb133bd652"
      },
      "source": [
        "#Read file csv:\n",
        "df = pd.read_csv('https://raw.githubusercontent.com/anhquan0412/boston_housing/master/housing.csv')\n",
        "df.index += 1\n",
        "df"
      ],
      "execution_count": null,
      "outputs": [
        {
          "output_type": "execute_result",
          "data": {
            "text/html": [
              "<div>\n",
              "<style scoped>\n",
              "    .dataframe tbody tr th:only-of-type {\n",
              "        vertical-align: middle;\n",
              "    }\n",
              "\n",
              "    .dataframe tbody tr th {\n",
              "        vertical-align: top;\n",
              "    }\n",
              "\n",
              "    .dataframe thead th {\n",
              "        text-align: right;\n",
              "    }\n",
              "</style>\n",
              "<table border=\"1\" class=\"dataframe\">\n",
              "  <thead>\n",
              "    <tr style=\"text-align: right;\">\n",
              "      <th></th>\n",
              "      <th>RM</th>\n",
              "      <th>LSTAT</th>\n",
              "      <th>PTRATIO</th>\n",
              "      <th>MEDV</th>\n",
              "    </tr>\n",
              "  </thead>\n",
              "  <tbody>\n",
              "    <tr>\n",
              "      <th>1</th>\n",
              "      <td>6.575</td>\n",
              "      <td>4.98</td>\n",
              "      <td>15.3</td>\n",
              "      <td>504000.0</td>\n",
              "    </tr>\n",
              "    <tr>\n",
              "      <th>2</th>\n",
              "      <td>6.421</td>\n",
              "      <td>9.14</td>\n",
              "      <td>17.8</td>\n",
              "      <td>453600.0</td>\n",
              "    </tr>\n",
              "    <tr>\n",
              "      <th>3</th>\n",
              "      <td>7.185</td>\n",
              "      <td>4.03</td>\n",
              "      <td>17.8</td>\n",
              "      <td>728700.0</td>\n",
              "    </tr>\n",
              "    <tr>\n",
              "      <th>4</th>\n",
              "      <td>6.998</td>\n",
              "      <td>2.94</td>\n",
              "      <td>18.7</td>\n",
              "      <td>701400.0</td>\n",
              "    </tr>\n",
              "    <tr>\n",
              "      <th>5</th>\n",
              "      <td>7.147</td>\n",
              "      <td>5.33</td>\n",
              "      <td>18.7</td>\n",
              "      <td>760200.0</td>\n",
              "    </tr>\n",
              "    <tr>\n",
              "      <th>...</th>\n",
              "      <td>...</td>\n",
              "      <td>...</td>\n",
              "      <td>...</td>\n",
              "      <td>...</td>\n",
              "    </tr>\n",
              "    <tr>\n",
              "      <th>485</th>\n",
              "      <td>6.593</td>\n",
              "      <td>9.67</td>\n",
              "      <td>21.0</td>\n",
              "      <td>470400.0</td>\n",
              "    </tr>\n",
              "    <tr>\n",
              "      <th>486</th>\n",
              "      <td>6.120</td>\n",
              "      <td>9.08</td>\n",
              "      <td>21.0</td>\n",
              "      <td>432600.0</td>\n",
              "    </tr>\n",
              "    <tr>\n",
              "      <th>487</th>\n",
              "      <td>6.976</td>\n",
              "      <td>5.64</td>\n",
              "      <td>21.0</td>\n",
              "      <td>501900.0</td>\n",
              "    </tr>\n",
              "    <tr>\n",
              "      <th>488</th>\n",
              "      <td>6.794</td>\n",
              "      <td>6.48</td>\n",
              "      <td>21.0</td>\n",
              "      <td>462000.0</td>\n",
              "    </tr>\n",
              "    <tr>\n",
              "      <th>489</th>\n",
              "      <td>6.030</td>\n",
              "      <td>7.88</td>\n",
              "      <td>21.0</td>\n",
              "      <td>249900.0</td>\n",
              "    </tr>\n",
              "  </tbody>\n",
              "</table>\n",
              "<p>489 rows × 4 columns</p>\n",
              "</div>"
            ],
            "text/plain": [
              "        RM  LSTAT  PTRATIO      MEDV\n",
              "1    6.575   4.98     15.3  504000.0\n",
              "2    6.421   9.14     17.8  453600.0\n",
              "3    7.185   4.03     17.8  728700.0\n",
              "4    6.998   2.94     18.7  701400.0\n",
              "5    7.147   5.33     18.7  760200.0\n",
              "..     ...    ...      ...       ...\n",
              "485  6.593   9.67     21.0  470400.0\n",
              "486  6.120   9.08     21.0  432600.0\n",
              "487  6.976   5.64     21.0  501900.0\n",
              "488  6.794   6.48     21.0  462000.0\n",
              "489  6.030   7.88     21.0  249900.0\n",
              "\n",
              "[489 rows x 4 columns]"
            ]
          },
          "metadata": {},
          "execution_count": 2
        }
      ]
    },
    {
      "cell_type": "code",
      "metadata": {
        "id": "gMYQpX7z0Vxg"
      },
      "source": [
        "# Define features & label\n",
        "X = df.drop(columns=['MEDV'])\n",
        "y = df['MEDV']"
      ],
      "execution_count": null,
      "outputs": []
    },
    {
      "cell_type": "code",
      "metadata": {
        "colab": {
          "base_uri": "https://localhost:8080/"
        },
        "id": "RokkYoE6PxfI",
        "outputId": "2ebab3f2-4ff1-4e68-89a3-c53ee804aa99"
      },
      "source": [
        "df.info()"
      ],
      "execution_count": null,
      "outputs": [
        {
          "output_type": "stream",
          "text": [
            "<class 'pandas.core.frame.DataFrame'>\n",
            "RangeIndex: 489 entries, 1 to 489\n",
            "Data columns (total 4 columns):\n",
            " #   Column   Non-Null Count  Dtype  \n",
            "---  ------   --------------  -----  \n",
            " 0   RM       489 non-null    float64\n",
            " 1   LSTAT    489 non-null    float64\n",
            " 2   PTRATIO  489 non-null    float64\n",
            " 3   MEDV     489 non-null    float64\n",
            "dtypes: float64(4)\n",
            "memory usage: 15.4 KB\n"
          ],
          "name": "stdout"
        }
      ]
    },
    {
      "cell_type": "code",
      "metadata": {
        "colab": {
          "base_uri": "https://localhost:8080/",
          "height": 297
        },
        "id": "e5IZPUYBP0dN",
        "outputId": "f7f0ad0d-9dc5-4e0c-da24-c7f0f9b8e853"
      },
      "source": [
        "df.describe()"
      ],
      "execution_count": null,
      "outputs": [
        {
          "output_type": "execute_result",
          "data": {
            "text/html": [
              "<div>\n",
              "<style scoped>\n",
              "    .dataframe tbody tr th:only-of-type {\n",
              "        vertical-align: middle;\n",
              "    }\n",
              "\n",
              "    .dataframe tbody tr th {\n",
              "        vertical-align: top;\n",
              "    }\n",
              "\n",
              "    .dataframe thead th {\n",
              "        text-align: right;\n",
              "    }\n",
              "</style>\n",
              "<table border=\"1\" class=\"dataframe\">\n",
              "  <thead>\n",
              "    <tr style=\"text-align: right;\">\n",
              "      <th></th>\n",
              "      <th>RM</th>\n",
              "      <th>LSTAT</th>\n",
              "      <th>PTRATIO</th>\n",
              "      <th>MEDV</th>\n",
              "    </tr>\n",
              "  </thead>\n",
              "  <tbody>\n",
              "    <tr>\n",
              "      <th>count</th>\n",
              "      <td>489.000000</td>\n",
              "      <td>489.000000</td>\n",
              "      <td>489.000000</td>\n",
              "      <td>4.890000e+02</td>\n",
              "    </tr>\n",
              "    <tr>\n",
              "      <th>mean</th>\n",
              "      <td>6.240288</td>\n",
              "      <td>12.939632</td>\n",
              "      <td>18.516564</td>\n",
              "      <td>4.543429e+05</td>\n",
              "    </tr>\n",
              "    <tr>\n",
              "      <th>std</th>\n",
              "      <td>0.643650</td>\n",
              "      <td>7.081990</td>\n",
              "      <td>2.111268</td>\n",
              "      <td>1.653403e+05</td>\n",
              "    </tr>\n",
              "    <tr>\n",
              "      <th>min</th>\n",
              "      <td>3.561000</td>\n",
              "      <td>1.980000</td>\n",
              "      <td>12.600000</td>\n",
              "      <td>1.050000e+05</td>\n",
              "    </tr>\n",
              "    <tr>\n",
              "      <th>25%</th>\n",
              "      <td>5.880000</td>\n",
              "      <td>7.370000</td>\n",
              "      <td>17.400000</td>\n",
              "      <td>3.507000e+05</td>\n",
              "    </tr>\n",
              "    <tr>\n",
              "      <th>50%</th>\n",
              "      <td>6.185000</td>\n",
              "      <td>11.690000</td>\n",
              "      <td>19.100000</td>\n",
              "      <td>4.389000e+05</td>\n",
              "    </tr>\n",
              "    <tr>\n",
              "      <th>75%</th>\n",
              "      <td>6.575000</td>\n",
              "      <td>17.120000</td>\n",
              "      <td>20.200000</td>\n",
              "      <td>5.187000e+05</td>\n",
              "    </tr>\n",
              "    <tr>\n",
              "      <th>max</th>\n",
              "      <td>8.398000</td>\n",
              "      <td>37.970000</td>\n",
              "      <td>22.000000</td>\n",
              "      <td>1.024800e+06</td>\n",
              "    </tr>\n",
              "  </tbody>\n",
              "</table>\n",
              "</div>"
            ],
            "text/plain": [
              "               RM       LSTAT     PTRATIO          MEDV\n",
              "count  489.000000  489.000000  489.000000  4.890000e+02\n",
              "mean     6.240288   12.939632   18.516564  4.543429e+05\n",
              "std      0.643650    7.081990    2.111268  1.653403e+05\n",
              "min      3.561000    1.980000   12.600000  1.050000e+05\n",
              "25%      5.880000    7.370000   17.400000  3.507000e+05\n",
              "50%      6.185000   11.690000   19.100000  4.389000e+05\n",
              "75%      6.575000   17.120000   20.200000  5.187000e+05\n",
              "max      8.398000   37.970000   22.000000  1.024800e+06"
            ]
          },
          "metadata": {},
          "execution_count": 5
        }
      ]
    },
    {
      "cell_type": "markdown",
      "metadata": {
        "id": "RGFzFBZmmOT6"
      },
      "source": [
        "\n",
        "\n",
        "# Step 1: Data Exploration (EDA)\n",
        "\n",
        "Familiarizing yourself with the data through an explorative process is a fundamental practice to help you better understand and justify your results.\n",
        "\n",
        "As a reminder, we are using three features from the Boston housing dataset: 'RM', 'LSTAT', and 'PTRATIO'. For each data point (neighborhood):\n",
        "\n",
        "- 'RM' is the average number of rooms among homes in the neighborhood.\n",
        "- 'LSTAT' is the percentage of homeowners in the neighborhood considered \"lower class\" (working poor).\n",
        "- 'PTRATIO' is the ratio of students to teachers in primary and secondary schools in the neighborhood.\n",
        "\n",
        "**Question**: For each of the three features above, do you think that an increase in the value of that feature would lead to an increase in the value of 'MEDV' or a decrease in the value of 'MEDV'? Justify your answer for each by plotting or calculating the correlation\n",
        "\n",
        "***Answer:***\n",
        "- **RM**: adding an additional room to a house will increase its price. A house with more rooms tend to be bigger, and also has more value compared to smaller house with fewer rooms. The number of rooms is positvely proportional to housing price (corr = 0.697)\n",
        "\n",
        "- **LSTAT**: a house located in a wealthy neighbourhood is more desirable than the same one located in a neighbourhood with greater percentage of 'lower class' due to its safe surroundings, better access to schools, restaurants, parks, entertainment centers, etc. LSTAT is negatively proportional to the house price (corr = -0.76)\n",
        "\n",
        "- **PTRATIO**: A lower PTRATIO means students would get better personal instruction and attention from the teacher, which can have a great impact on how successful the students would perform academically. Therefore, it's more desirable to buy a house in a neighbourhood with low PTRATIO. PTRATIO is also negatively proportional to house price (corr = -0.519)"
      ]
    },
    {
      "cell_type": "code",
      "metadata": {
        "colab": {
          "base_uri": "https://localhost:8080/",
          "height": 403
        },
        "id": "c5Y_PulMWHAG",
        "outputId": "f9b29722-4171-4f74-855a-cdcf71e3fda4"
      },
      "source": [
        "fig, ax = plt.subplots(1,3,figsize=(16,6))\n",
        "\n",
        "for i in range(3):\n",
        "  sns.scatterplot(x=df[df.columns[i]].values, y=df['MEDV'].values, ax=ax[i])\n",
        "\n",
        "ax[0].set_title('RM vs MEDV')\n",
        "ax[1].set_title('LSTAT vs MEDV')\n",
        "ax[2].set_title('PTRATIO vs MEDV')\n",
        "plt.tight_layout(pad=3)\n",
        "plt.show()"
      ],
      "execution_count": null,
      "outputs": [
        {
          "output_type": "display_data",
          "data": {
            "image/png": "[encoded data removed]",
            "text/plain": [
              "<Figure size 1152x432 with 3 Axes>"
            ]
          },
          "metadata": {
            "needs_background": "light"
          }
        }
      ]
    },
    {
      "cell_type": "code",
      "metadata": {
        "colab": {
          "base_uri": "https://localhost:8080/",
          "height": 124
        },
        "id": "uZH3J6rYVNAz",
        "outputId": "15aa9796-8a99-4a3a-b75e-f6e90dd7fca8"
      },
      "source": [
        "df.corr().style.background_gradient(cmap='Reds')"
      ],
      "execution_count": null,
      "outputs": [
        {
          "output_type": "execute_result",
          "data": {
            "text/html": [
              "<style  type=\"text/css\" >\n",
              "#T_9fbe693a_05b0_11ec_a965_0242ac1c0002row0_col0,#T_9fbe693a_05b0_11ec_a965_0242ac1c0002row1_col1,#T_9fbe693a_05b0_11ec_a965_0242ac1c0002row2_col2,#T_9fbe693a_05b0_11ec_a965_0242ac1c0002row3_col3{\n",
              "            background-color:  #67000d;\n",
              "            color:  #f1f1f1;\n",
              "        }#T_9fbe693a_05b0_11ec_a965_0242ac1c0002row0_col1{\n",
              "            background-color:  #fee7dc;\n",
              "            color:  #000000;\n",
              "        }#T_9fbe693a_05b0_11ec_a965_0242ac1c0002row0_col2{\n",
              "            background-color:  #fedbcc;\n",
              "            color:  #000000;\n",
              "        }#T_9fbe693a_05b0_11ec_a965_0242ac1c0002row0_col3{\n",
              "            background-color:  #b31218;\n",
              "            color:  #f1f1f1;\n",
              "        }#T_9fbe693a_05b0_11ec_a965_0242ac1c0002row1_col0,#T_9fbe693a_05b0_11ec_a965_0242ac1c0002row1_col3,#T_9fbe693a_05b0_11ec_a965_0242ac1c0002row3_col1,#T_9fbe693a_05b0_11ec_a965_0242ac1c0002row3_col2{\n",
              "            background-color:  #fff5f0;\n",
              "            color:  #000000;\n",
              "        }#T_9fbe693a_05b0_11ec_a965_0242ac1c0002row1_col2{\n",
              "            background-color:  #f34c37;\n",
              "            color:  #000000;\n",
              "        }#T_9fbe693a_05b0_11ec_a965_0242ac1c0002row2_col0{\n",
              "            background-color:  #fdcdb9;\n",
              "            color:  #000000;\n",
              "        }#T_9fbe693a_05b0_11ec_a965_0242ac1c0002row2_col1{\n",
              "            background-color:  #eb372a;\n",
              "            color:  #f1f1f1;\n",
              "        }#T_9fbe693a_05b0_11ec_a965_0242ac1c0002row2_col3{\n",
              "            background-color:  #fedccd;\n",
              "            color:  #000000;\n",
              "        }#T_9fbe693a_05b0_11ec_a965_0242ac1c0002row3_col0{\n",
              "            background-color:  #b81419;\n",
              "            color:  #f1f1f1;\n",
              "        }</style><table id=\"T_9fbe693a_05b0_11ec_a965_0242ac1c0002\" ><thead>    <tr>        <th class=\"blank level0\" ></th>        <th class=\"col_heading level0 col0\" >RM</th>        <th class=\"col_heading level0 col1\" >LSTAT</th>        <th class=\"col_heading level0 col2\" >PTRATIO</th>        <th class=\"col_heading level0 col3\" >MEDV</th>    </tr></thead><tbody>\n",
              "                <tr>\n",
              "                        <th id=\"T_9fbe693a_05b0_11ec_a965_0242ac1c0002level0_row0\" class=\"row_heading level0 row0\" >RM</th>\n",
              "                        <td id=\"T_9fbe693a_05b0_11ec_a965_0242ac1c0002row0_col0\" class=\"data row0 col0\" >1.000000</td>\n",
              "                        <td id=\"T_9fbe693a_05b0_11ec_a965_0242ac1c0002row0_col1\" class=\"data row0 col1\" >-0.612033</td>\n",
              "                        <td id=\"T_9fbe693a_05b0_11ec_a965_0242ac1c0002row0_col2\" class=\"data row0 col2\" >-0.304559</td>\n",
              "                        <td id=\"T_9fbe693a_05b0_11ec_a965_0242ac1c0002row0_col3\" class=\"data row0 col3\" >0.697209</td>\n",
              "            </tr>\n",
              "            <tr>\n",
              "                        <th id=\"T_9fbe693a_05b0_11ec_a965_0242ac1c0002level0_row1\" class=\"row_heading level0 row1\" >LSTAT</th>\n",
              "                        <td id=\"T_9fbe693a_05b0_11ec_a965_0242ac1c0002row1_col0\" class=\"data row1 col0\" >-0.612033</td>\n",
              "                        <td id=\"T_9fbe693a_05b0_11ec_a965_0242ac1c0002row1_col1\" class=\"data row1 col1\" >1.000000</td>\n",
              "                        <td id=\"T_9fbe693a_05b0_11ec_a965_0242ac1c0002row1_col2\" class=\"data row1 col2\" >0.360445</td>\n",
              "                        <td id=\"T_9fbe693a_05b0_11ec_a965_0242ac1c0002row1_col3\" class=\"data row1 col3\" >-0.760670</td>\n",
              "            </tr>\n",
              "            <tr>\n",
              "                        <th id=\"T_9fbe693a_05b0_11ec_a965_0242ac1c0002level0_row2\" class=\"row_heading level0 row2\" >PTRATIO</th>\n",
              "                        <td id=\"T_9fbe693a_05b0_11ec_a965_0242ac1c0002row2_col0\" class=\"data row2 col0\" >-0.304559</td>\n",
              "                        <td id=\"T_9fbe693a_05b0_11ec_a965_0242ac1c0002row2_col1\" class=\"data row2 col1\" >0.360445</td>\n",
              "                        <td id=\"T_9fbe693a_05b0_11ec_a965_0242ac1c0002row2_col2\" class=\"data row2 col2\" >1.000000</td>\n",
              "                        <td id=\"T_9fbe693a_05b0_11ec_a965_0242ac1c0002row2_col3\" class=\"data row2 col3\" >-0.519034</td>\n",
              "            </tr>\n",
              "            <tr>\n",
              "                        <th id=\"T_9fbe693a_05b0_11ec_a965_0242ac1c0002level0_row3\" class=\"row_heading level0 row3\" >MEDV</th>\n",
              "                        <td id=\"T_9fbe693a_05b0_11ec_a965_0242ac1c0002row3_col0\" class=\"data row3 col0\" >0.697209</td>\n",
              "                        <td id=\"T_9fbe693a_05b0_11ec_a965_0242ac1c0002row3_col1\" class=\"data row3 col1\" >-0.760670</td>\n",
              "                        <td id=\"T_9fbe693a_05b0_11ec_a965_0242ac1c0002row3_col2\" class=\"data row3 col2\" >-0.519034</td>\n",
              "                        <td id=\"T_9fbe693a_05b0_11ec_a965_0242ac1c0002row3_col3\" class=\"data row3 col3\" >1.000000</td>\n",
              "            </tr>\n",
              "    </tbody></table>"
            ],
            "text/plain": [
              "<pandas.io.formats.style.Styler at 0x7f68298f5650>"
            ]
          },
          "metadata": {},
          "execution_count": 7
        }
      ]
    },
    {
      "cell_type": "code",
      "metadata": {
        "id": "-nHh-FYPm98r",
        "colab": {
          "base_uri": "https://localhost:8080/",
          "height": 441
        },
        "outputId": "f9e68a65-7155-48e2-c6a9-0a0af1b66b97"
      },
      "source": [
        "fig, ax = plt.subplots(1,4,figsize=(14,6))\n",
        "i = 0\n",
        "\n",
        "for k,v in df.items():\n",
        "    sns.histplot(data=v, ax=ax[i])\n",
        "    i += 1\n",
        "\n",
        "plt.tight_layout()\n",
        "plt.show()\n",
        "\n"
      ],
      "execution_count": null,
      "outputs": [
        {
          "output_type": "display_data",
          "data": {
            "image/png": "[encoded data removed]",
            "text/plain": [
              "<Figure size 1008x432 with 4 Axes>"
            ]
          },
          "metadata": {
            "needs_background": "light"
          }
        }
      ]
    },
    {
      "cell_type": "markdown",
      "metadata": {
        "id": "yEi9eqNqm-RH"
      },
      "source": [
        "# Step 2: Get to know our performance Metric\n",
        "\n",
        "Do a quick read on Mean Absolute Error (MAE), because that is going to be the metric we are going to use for this task.\n",
        "\n",
        "https://scikit-learn.org/stable/modules/generated/sklearn.metrics.mean_absolute_error.html\n",
        "\n",
        "**Question**: Calculate MAE on these data points by using the Sklearn library\n",
        "```python\n",
        "y_true = [3, -0.5, 2, 7, 4.2]\n",
        "y_pred = [2.5, 0, 2.1, 7.8, 5.3]\n",
        "```\n",
        "If a model is making these prediction (y_pred), is this a good model?"
      ]
    },
    {
      "cell_type": "code",
      "metadata": {
        "id": "ArkOOX2MnvoF",
        "colab": {
          "base_uri": "https://localhost:8080/"
        },
        "outputId": "fb67013a-0fd9-40c7-8fd0-1736d3331f88"
      },
      "source": [
        "y_true = np.array([3, -0.5, 2, 7, 4.2])\n",
        "y_pred = np.array([2.5, 0, 2.1, 7.8, 5.3])\n",
        "print(f'Average y_true:',np.round(y_true.mean(),decimals=2))\n",
        "\n",
        "# MAE:\n",
        "MAE = np.round(mean_absolute_error(y_true, y_pred),decimals=2)\n",
        "print(f'MAE:', MAE)\n",
        "\n",
        "ratio = np.round(MAE/(y_true.mean())*100, decimals=2)\n",
        "print(f'MAE/y_true_average: {ratio}%')\n"
      ],
      "execution_count": null,
      "outputs": [
        {
          "output_type": "stream",
          "text": [
            "Average y_true: 3.14\n",
            "MAE: 0.6\n",
            "MAE/y_true_average: 19.11%\n"
          ],
          "name": "stdout"
        }
      ]
    },
    {
      "cell_type": "markdown",
      "metadata": {
        "id": "A5I5mEMWunBf"
      },
      "source": [
        "**Answer:**\n",
        "\n",
        "- By MAE, on average the predictions are off by 19.11%, or the model's prediction is going to be off by 6 units if the average value of the labels = 31.4\n",
        "\n",
        "- This is a pretty bad model for ML"
      ]
    },
    {
      "cell_type": "markdown",
      "metadata": {
        "id": "X78OJElUnwfE"
      },
      "source": [
        "# Step 3: Train our machine learning model\n",
        "\n",
        "Your task is to build a pipeline to preprocess this data and train a linear regression model to predict the house price. Make sure to follow all the recommended practices we mention in class. \n",
        "\n",
        "Here are 2 pipelines you should implement \n",
        "- The first pipeline include: MinMaxScaler (or Standard Scaler) as **Transformer** (to preprocess), and Linear Regression as **Estimator** (machine learning model)\n",
        "\n",
        "- The second pipeline include: Polynomial Feature, **then** Standard Scaler as **Transformers**, and Linear Regression as **Estimator**. Pay attention that you have 2 transformers in a very specific order.\n",
        "\n",
        "\n",
        "\n",
        "\n"
      ]
    },
    {
      "cell_type": "code",
      "metadata": {
        "id": "tjMnpPnq3kCp"
      },
      "source": [
        "### First pipeline\n",
        "pipe_1 = Pipeline([('scaler', StandardScaler()),\n",
        "                   ('lm', LinearRegression())])\n",
        "\n",
        "### Second Pipeline\n",
        "pipe_2 = Pipeline([('poly_reg', PolynomialFeatures(include_bias=True)),\n",
        "                   ('scaler', StandardScaler()),\n",
        "                   ('lm', LinearRegression())])"
      ],
      "execution_count": null,
      "outputs": []
    },
    {
      "cell_type": "markdown",
      "metadata": {
        "id": "NmZvaFnG2HA2"
      },
      "source": [
        "## Part 1: Use a simple train-test split\n",
        "\n",
        "*Do these following step for the first pipeline only*:\n",
        "\n",
        "- Use sklearn `train_test_split` to split data into train set and test set. Use random_state = 42\n",
        "- Fit the pipeline on train set\n",
        "- Use pipline to predict the test set\n",
        "- Calculate the MAE on test set"
      ]
    },
    {
      "cell_type": "markdown",
      "metadata": {
        "id": "ll2xzLFRCFpZ"
      },
      "source": [
        "***For first pipeline only***"
      ]
    },
    {
      "cell_type": "code",
      "metadata": {
        "id": "_dx403JqBBNf",
        "colab": {
          "base_uri": "https://localhost:8080/"
        },
        "outputId": "1f8448f4-9749-426a-bf5b-e6a3c55117f5"
      },
      "source": [
        "# Split data using train_test_split\n",
        "X_train, X_test, y_train, y_test = train_test_split(X,y, test_size = 0.3, random_state=42)\n",
        "\n",
        "print(f'X_train shape:',X_train.shape)\n",
        "print(f'y_train shape:',y_train.shape)\n",
        "print(f'X_test shape:',X_test.shape)\n",
        "print(f'y_test shape:',y_test.shape)"
      ],
      "execution_count": null,
      "outputs": [
        {
          "output_type": "stream",
          "text": [
            "X_train shape: (342, 3)\n",
            "y_train shape: (342,)\n",
            "X_test shape: (147, 3)\n",
            "y_test shape: (147,)\n"
          ],
          "name": "stdout"
        }
      ]
    },
    {
      "cell_type": "code",
      "metadata": {
        "colab": {
          "base_uri": "https://localhost:8080/"
        },
        "id": "Lkbxhhqq36Dl",
        "outputId": "3e4e9f7c-f413-4362-b456-edededcfc805"
      },
      "source": [
        "# Train model\n",
        "pipe_1.fit(X_train, y_train) \n",
        "\n",
        "# Predict training data\n",
        "y_train_pred = pipe_1.predict(X_train)\n",
        "# Predict test data\n",
        "y_test_pred = pipe_1.predict(X_test)\n",
        "\n",
        "print('Train set errors:')\n",
        "# MAE:\n",
        "print(f'MAE:',mean_absolute_error(y_train, y_train_pred))\n",
        "#MAPE:\n",
        "print(\"MAPE: {} % \".format(np.round(mean_absolute_error(y_train, y_train_pred)/y_train.mean()*100, decimals=2)))\n",
        "\n",
        "print('\\nTest set errors:')\n",
        "#MAE:\n",
        "print(f'MAE:',mean_absolute_error(y_test, y_test_pred))\n",
        "#MAPE:\n",
        "print(\"MAPE: {} % \".format(np.round(mean_absolute_error(y_test, y_test_pred)/y_test.mean()*100, decimals=2)))"
      ],
      "execution_count": null,
      "outputs": [
        {
          "output_type": "stream",
          "text": [
            "Train set errors:\n",
            "MAE: 66802.94216127055\n",
            "MAPE: 14.4 % \n",
            "\n",
            "Test set errors:\n",
            "MAE: 63313.4973723415\n",
            "MAPE: 14.66 % \n"
          ],
          "name": "stdout"
        }
      ]
    },
    {
      "cell_type": "markdown",
      "metadata": {
        "id": "cgC6Fpme3t0d"
      },
      "source": [
        "## Part 2: Use 5 fold cross-validation without polynomial features\n",
        "\n",
        "*Do these following steps for first pipeline*\n",
        "\n",
        "You don't do a simple train-test split. Instead, you will **do train-test split 5 times** and then calculate the mean of the MAE score for these 5 test set.\n",
        "\n",
        "Take a look at sklearn cross_validation here: https://scikit-learn.org/stable/modules/generated/sklearn.model_selection.cross_val_score.html and write the code to **calculate the mean of MAE of these 5-fold cross validation results**\n",
        "\n",
        "\n",
        "\n",
        "*Hint*: You need to read the documentation to know exactly what will be returned when you use `cross_val_score(your_pipeline, X,y, scoring=\"neg_mean_absolute_error\")`. And note that the only scoring that similar to MAE in `cross_val_score` is `neg_mean_absolute_error`, which means the result will be negative MAE. All you need to do is multiply the result by -1 to turn them into positive MAE."
      ]
    },
    {
      "cell_type": "code",
      "metadata": {
        "colab": {
          "base_uri": "https://localhost:8080/"
        },
        "id": "bobuwP3_KYzd",
        "outputId": "7b58d3a4-b3bd-45f3-8c50-fe9898a2407a"
      },
      "source": [
        "scores = cross_val_score(pipe_1, X, y, scoring='neg_mean_absolute_error', cv=5)\n",
        "print(f'Scores:',-1*scores)\n",
        "print(f'Mean MAE of 5-fold CV:', -1*scores.mean())"
      ],
      "execution_count": null,
      "outputs": [
        {
          "output_type": "stream",
          "text": [
            "Scores: [43813.0860629  72928.11409471 95899.64728565 80260.79735502\n",
            " 83546.26020565]\n",
            "Mean MAE of 5-fold CV: 75289.58100078857\n"
          ],
          "name": "stdout"
        }
      ]
    },
    {
      "cell_type": "markdown",
      "metadata": {
        "id": "WKntpuyt77c7"
      },
      "source": [
        "## Part 3: Use 5 fold cross-validation with polynomial features"
      ]
    },
    {
      "cell_type": "markdown",
      "metadata": {
        "id": "SWWQRvHt7_ZX"
      },
      "source": [
        "*Do these following steps for second pipeline*\n",
        "\n",
        "Repeat everything in **Part 2** on the second pipeline (The one with Polynomial Feature as one of the transformer). For this one, write a `for` loop to test out different degree for Polynomial Feature. Here is roughly what your code should look like\n",
        "```\n",
        "for each value n in a range of your choice:\n",
        "    - create a pipeline including Polynomial Feature(degree=n) => MinMaxScaler => Linear Regression\n",
        "    - call cross_val_score on this pipeline\n",
        "    - calculate mean of MAE scores from cross validation\n",
        "```\n",
        "\n"
      ]
    },
    {
      "cell_type": "code",
      "metadata": {
        "colab": {
          "base_uri": "https://localhost:8080/"
        },
        "id": "rm0o20vNdPQy",
        "outputId": "b4a1def0-ebab-449b-91fd-ed50dcb5b63b"
      },
      "source": [
        "# 5-fold CV (no shuffle)\n",
        "cv = KFold(n_splits=5, shuffle=False)\n",
        "\n",
        "for i in range(2,6):\n",
        "  pipe_2 = Pipeline([('poly_reg', PolynomialFeatures(degree = i, include_bias=True)),\n",
        "                   ('scaler', StandardScaler()),\n",
        "                   ('lm', LinearRegression())])\n",
        "  scores = cross_val_score(pipe_2 ,X, y, scoring='neg_mean_absolute_error', cv=cv)\n",
        "  print(\"Degree-\"+str(i)+\", mean MAE: \" + str(abs(scores.mean())))"
      ],
      "execution_count": null,
      "outputs": [
        {
          "output_type": "stream",
          "text": [
            "Degree-2, mean MAE: 56091.06882950844\n",
            "Degree-3, mean MAE: 62421.70749224389\n",
            "Degree-4, mean MAE: 111623.24769100218\n",
            "Degree-5, mean MAE: 123375.5800030228\n"
          ],
          "name": "stdout"
        }
      ]
    },
    {
      "cell_type": "code",
      "metadata": {
        "colab": {
          "base_uri": "https://localhost:8080/"
        },
        "id": "ACJm84i4YV5C",
        "outputId": "41bde447-dff7-41a7-cac2-9af164f0a6d5"
      },
      "source": [
        "# CV with shuffle = True:\n",
        "cv = KFold(n_splits=5, random_state=42, shuffle=True) \n",
        "\n",
        "for i in range(2,6):\n",
        "  pipe_2 = Pipeline([('poly_reg', PolynomialFeatures(degree = i, include_bias=True)),\n",
        "                   ('scaler', StandardScaler()),\n",
        "                   ('lm', LinearRegression())])\n",
        "  scores = cross_val_score(pipe_2 ,X, y, scoring='neg_mean_absolute_error', cv=cv)\n",
        "  print(\"Degree-\"+str(i)+\", mean MAE: \" + str(abs(scores.mean())))"
      ],
      "execution_count": null,
      "outputs": [
        {
          "output_type": "stream",
          "text": [
            "Degree-2, mean MAE: 52945.919447398555\n",
            "Degree-3, mean MAE: 51796.31686084517\n",
            "Degree-4, mean MAE: 66482.42559577693\n",
            "Degree-5, mean MAE: 79351.11706780034\n"
          ],
          "name": "stdout"
        }
      ]
    },
    {
      "cell_type": "markdown",
      "metadata": {
        "id": "moJDrCuM75lb"
      },
      "source": [
        "**Validation Curve**\n",
        "\n",
        "- Determine training and test scores for varying parameter values\n",
        "\n",
        "- Compute scores for an estimator with different values of a specified parameter. This is similar to grid search with one parameter\n",
        "\n",
        "- However, this will also compute training scores and is merely for plotting the results."
      ]
    },
    {
      "cell_type": "code",
      "metadata": {
        "id": "0PwrNkxqr9TJ",
        "colab": {
          "base_uri": "https://localhost:8080/",
          "height": 388
        },
        "outputId": "47909b77-0bb5-46e5-c18d-239eaf7863b7"
      },
      "source": [
        "# Validation curve for CV without Shuffle\n",
        "plt.figure(figsize=(18,6))\n",
        "degree = np.arange(1,6)\n",
        "\n",
        "#Plot 1\n",
        "train_score, val_score = validation_curve(pipe_2, X, y,\n",
        "                                          param_name='poly_reg__degree',param_range=degree,scoring=\"neg_mean_absolute_error\", cv=5)\n",
        "plt.subplot(121)\n",
        "plt.plot(degree, np.mean(-1*train_score, axis=1), color='blue', label='Error on Training data')\n",
        "plt.plot(degree, np.mean(-1*val_score, 1), color='red', label='Error on Test data')\n",
        "plt.xticks(ticks=[1,2,3,4,5])\n",
        "plt.legend(loc='best')\n",
        "plt.xlabel('degree')\n",
        "plt.ylabel('score')\n",
        "\n",
        "#Plot 2\n",
        "train_score, val_score = validation_curve(pipe_2, X, y,\n",
        "                                          param_name='poly_reg__degree',param_range=degree,scoring=\"neg_mean_absolute_error\", cv=KFold(n_splits=5, random_state=42, shuffle=True))\n",
        "plt.subplot(122)\n",
        "plt.plot(degree, np.mean(-1*train_score, axis=1), color='blue', label='Error on Training data')\n",
        "plt.plot(degree, np.mean(-1*val_score, 1), color='red', label='Error on Test data')\n",
        "plt.xticks(ticks=[1,2,3,4,5])\n",
        "plt.legend(loc='best')\n",
        "plt.xlabel('degree')\n",
        "plt.ylabel('score')\n",
        "\n",
        "plt.show()"
      ],
      "execution_count": null,
      "outputs": [
        {
          "output_type": "display_data",
          "data": {
            "image/png": "[encoded data removed]",
            "text/plain": [
              "<Figure size 1296x432 with 2 Axes>"
            ]
          },
          "metadata": {
            "needs_background": "light"
          }
        }
      ]
    },
    {
      "cell_type": "markdown",
      "metadata": {
        "id": "nO4Zr1IwCqFA"
      },
      "source": [
        "*Bonus*: after you finish this lab, go back to this question, and consider a better way to search for the best degree by using gridsearchCV: https://scikit-learn.org/stable/modules/generated/sklearn.model_selection.GridSearchCV.html\n"
      ]
    },
    {
      "cell_type": "code",
      "metadata": {
        "colab": {
          "base_uri": "https://localhost:8080/"
        },
        "id": "xGPkVFLnlps0",
        "outputId": "c0021d15-f0e5-42c2-edf7-79639e21401d"
      },
      "source": [
        "# GridSearchCV without shuffle\n",
        "param_grid = {'poly_reg__degree': list(range(1,11))}\n",
        "\n",
        "grid_model = GridSearchCV(estimator = pipe_2,\n",
        "                          param_grid = param_grid,\n",
        "                          scoring = 'neg_mean_absolute_error',\n",
        "\t\t\t\t\t\t\t\t\t\t\t\t\tcv=5, verbose = 1)  \n",
        "\n",
        "grid_model.fit(X, y)"
      ],
      "execution_count": null,
      "outputs": [
        {
          "output_type": "stream",
          "text": [
            "Fitting 5 folds for each of 10 candidates, totalling 50 fits\n"
          ],
          "name": "stdout"
        },
        {
          "output_type": "stream",
          "text": [
            "[Parallel(n_jobs=1)]: Using backend SequentialBackend with 1 concurrent workers.\n",
            "[Parallel(n_jobs=1)]: Done  50 out of  50 | elapsed:    1.0s finished\n"
          ],
          "name": "stderr"
        },
        {
          "output_type": "execute_result",
          "data": {
            "text/plain": [
              "GridSearchCV(cv=5, error_score=nan,\n",
              "             estimator=Pipeline(memory=None,\n",
              "                                steps=[('poly_reg',\n",
              "                                        PolynomialFeatures(degree=5,\n",
              "                                                           include_bias=True,\n",
              "                                                           interaction_only=False,\n",
              "                                                           order='C')),\n",
              "                                       ('scaler',\n",
              "                                        StandardScaler(copy=True,\n",
              "                                                       with_mean=True,\n",
              "                                                       with_std=True)),\n",
              "                                       ('lm',\n",
              "                                        LinearRegression(copy_X=True,\n",
              "                                                         fit_intercept=True,\n",
              "                                                         n_jobs=None,\n",
              "                                                         normalize=False))],\n",
              "                                verbose=False),\n",
              "             iid='deprecated', n_jobs=None,\n",
              "             param_grid={'poly_reg__degree': [1, 2, 3, 4, 5, 6, 7, 8, 9, 10]},\n",
              "             pre_dispatch='2*n_jobs', refit=True, return_train_score=False,\n",
              "             scoring='neg_mean_absolute_error', verbose=1)"
            ]
          },
          "metadata": {},
          "execution_count": 17
        }
      ]
    },
    {
      "cell_type": "code",
      "metadata": {
        "colab": {
          "base_uri": "https://localhost:8080/"
        },
        "id": "UrvE0NSCmKxW",
        "outputId": "5f0330ac-a5f3-496f-ced8-5b97198688ee"
      },
      "source": [
        "print('Best degree for polynomial regression: '+str(grid_model.best_params_)+ '\\nBest mean MAE: ' + str(-1*grid_model.best_score_))"
      ],
      "execution_count": null,
      "outputs": [
        {
          "output_type": "stream",
          "text": [
            "Best degree for polynomial regression: {'poly_reg__degree': 2}\n",
            "Best mean MAE: 56091.06882950844\n"
          ],
          "name": "stdout"
        }
      ]
    },
    {
      "cell_type": "code",
      "metadata": {
        "id": "TBBVJH2JZ-Dh"
      },
      "source": [
        "#best_pipeline = grid_model.best_estimator: returns the best pipeline to be used for predicting purpose\n",
        "#best_pipeline.predict(X_test)"
      ],
      "execution_count": null,
      "outputs": []
    },
    {
      "cell_type": "code",
      "metadata": {
        "colab": {
          "base_uri": "https://localhost:8080/"
        },
        "id": "fP4OwsB7Y9hl",
        "outputId": "596773b1-38b3-4c4a-ad7d-b9abfcf48734"
      },
      "source": [
        "# GridSearchCV with shuffle\n",
        "param_grid = {'poly_reg__degree': list(range(1,6))}\n",
        "\n",
        "grid_model_2 = GridSearchCV(estimator = pipe_2,\n",
        "                          param_grid = param_grid,\n",
        "                          scoring = 'neg_mean_absolute_error',\n",
        "\t\t\t\t\t\t\t\t\t\t\t\t\tcv=KFold(n_splits=5, random_state=42, shuffle=True), verbose = 1)  \n",
        "\n",
        "grid_model_2.fit(X, y)"
      ],
      "execution_count": null,
      "outputs": [
        {
          "output_type": "stream",
          "text": [
            "[Parallel(n_jobs=1)]: Using backend SequentialBackend with 1 concurrent workers.\n"
          ],
          "name": "stderr"
        },
        {
          "output_type": "stream",
          "text": [
            "Fitting 5 folds for each of 5 candidates, totalling 25 fits\n"
          ],
          "name": "stdout"
        },
        {
          "output_type": "stream",
          "text": [
            "[Parallel(n_jobs=1)]: Done  25 out of  25 | elapsed:    0.2s finished\n"
          ],
          "name": "stderr"
        },
        {
          "output_type": "execute_result",
          "data": {
            "text/plain": [
              "GridSearchCV(cv=KFold(n_splits=5, random_state=42, shuffle=True),\n",
              "             error_score=nan,\n",
              "             estimator=Pipeline(memory=None,\n",
              "                                steps=[('poly_reg',\n",
              "                                        PolynomialFeatures(degree=5,\n",
              "                                                           include_bias=True,\n",
              "                                                           interaction_only=False,\n",
              "                                                           order='C')),\n",
              "                                       ('scaler',\n",
              "                                        StandardScaler(copy=True,\n",
              "                                                       with_mean=True,\n",
              "                                                       with_std=True)),\n",
              "                                       ('lm',\n",
              "                                        LinearRegression(copy_X=True,\n",
              "                                                         fit_intercept=True,\n",
              "                                                         n_jobs=None,\n",
              "                                                         normalize=False))],\n",
              "                                verbose=False),\n",
              "             iid='deprecated', n_jobs=None,\n",
              "             param_grid={'poly_reg__degree': [1, 2, 3, 4, 5]},\n",
              "             pre_dispatch='2*n_jobs', refit=True, return_train_score=False,\n",
              "             scoring='neg_mean_absolute_error', verbose=1)"
            ]
          },
          "metadata": {},
          "execution_count": 20
        }
      ]
    },
    {
      "cell_type": "code",
      "metadata": {
        "colab": {
          "base_uri": "https://localhost:8080/"
        },
        "id": "p_n-ru0zZDP4",
        "outputId": "2bde94ae-fee5-4b83-b658-b5d9670e6d88"
      },
      "source": [
        "print('Best degree for polynomial regression: '+str(grid_model_2.best_params_)+ '\\nBest mean MAE: ' + str(-1*grid_model_2.best_score_))"
      ],
      "execution_count": null,
      "outputs": [
        {
          "output_type": "stream",
          "text": [
            "Best degree for polynomial regression: {'poly_reg__degree': 3}\n",
            "Best mean MAE: 51796.31686084517\n"
          ],
          "name": "stdout"
        }
      ]
    },
    {
      "cell_type": "markdown",
      "metadata": {
        "id": "mrwhDUznpbzB"
      },
      "source": [
        "# Step 4: Reporting your MAE\n",
        "\n",
        "From part 2 and part 3, which pipeline ends up with the lowest mean MAE from cross validation? And what is that MAE?"
      ]
    },
    {
      "cell_type": "markdown",
      "metadata": {
        "id": "29kcDjmjtDZu"
      },
      "source": [
        "**Answer:**\n",
        "\n",
        "Pipeline 2 which has Polynomial Features ends up having the lowest mean MAE from 5-fold CV\n",
        "\n",
        "For this Pipeline, I implemented 2 methods for CrossValidation and got 2 results:\n",
        "\n",
        "- First method - CV without shuffling:\n",
        "  - Lowest mean MAE = 56091 for degree = 2\n",
        "\n",
        "- Second method - CV with shuffling & random_state = 42:\n",
        "  - Lowest mean MAE = 51796 for degree = 3\n",
        "\n",
        "And the best one that I will use is Pipeline 2 with degree 3"
      ]
    },
    {
      "cell_type": "code",
      "metadata": {
        "id": "dUnT8gUui9K7"
      },
      "source": [
        "# Best pipeline - degree 3:\n",
        "best_pipe_2 = Pipeline([('poly_reg', PolynomialFeatures(degree = 3, include_bias=True)),\n",
        "                      ('scaler', StandardScaler()),\n",
        "                      ('lm', LinearRegression())])"
      ],
      "execution_count": null,
      "outputs": []
    },
    {
      "cell_type": "markdown",
      "metadata": {
        "id": "pvNfEbcYqtAU"
      },
      "source": [
        "# Step 5: Making predictions"
      ]
    },
    {
      "cell_type": "markdown",
      "metadata": {
        "id": "vwDl5_7qqurr"
      },
      "source": [
        "Imagine that you were a real estate agent in the Boston area looking to use this model to help price homes owned by your clients that they wish to sell. You have collected the following information from three of your clients:\n",
        "\n",
        "|Feature\t|Client 1\t|Client 2\t|Client 3|\n",
        "|-----------|-----------|-----------|--------|\n",
        "|Total number of rooms in home\t|5 rooms\t|4 rooms\t|8 rooms|\n",
        "|Neighborhood poverty level (as %)\t|17%\t|32%\t|3%|\n",
        "|Student-teacher ratio of nearby schools\t|15-to-1\t|22-to-1\t|12-to-1|\n",
        "\n",
        "Based on your model, what price would you recommend each client sell his/her home at?\n"
      ]
    },
    {
      "cell_type": "markdown",
      "metadata": {
        "id": "TzTxuKu2-c0C"
      },
      "source": [
        "Note that at this point, you haven't had a trained model to make the prediction on this data. So we will create a pipeline and train it.\n",
        "\n",
        "To do this question, you need to\n",
        "- Redefine the best pipeline that you report in step 4\n",
        "- **Fit** this pipeline on the entire dataset given at the beginning (we don't need to do train/test split here as we already know this is our best pipeline)\n",
        "- Manually create a new test data including 3 clients from the table above\n",
        "- Use the pipeline you have fitted to **predict** this new test data\n",
        "- Save the prediction to a variable called `client_preds`"
      ]
    },
    {
      "cell_type": "markdown",
      "metadata": {
        "id": "Gh6tgjUjsa9i"
      },
      "source": [
        "**Answer:**\n",
        "\n",
        "My best pipeline is Pipeline 2 (degree 3). However, I will report both degree 2 & 3 to compare their results and understand why degree 3 is the best"
      ]
    },
    {
      "cell_type": "code",
      "metadata": {
        "id": "qUn1nxEq_eMu"
      },
      "source": [
        "# Best pipeline - degree 2:\n",
        "best_pipe = Pipeline([('poly_reg', PolynomialFeatures(degree = 2, include_bias=True)),\n",
        "                      ('scaler', StandardScaler()),\n",
        "                      ('lm', LinearRegression())])\n",
        "\n",
        "# X_train2, X_test2, y_train2, y_test2 = train_test_split(X,y, test_size = 0.3, random_state=42)\n",
        "# best_pipe.fit(X_train2,y)\n",
        "# y_test_pred2 = best_pipe.predict(X_test2)\n",
        "\n",
        "# Best pipeline - degree 3:\n",
        "best_pipe_2 = Pipeline([('poly_reg', PolynomialFeatures(degree = 3, include_bias=True)),\n",
        "                      ('scaler', StandardScaler()),\n",
        "                      ('lm', LinearRegression())])\n",
        "\n",
        "# X_train3, X_test3, y_train3, y_test3 = train_test_split(X,y, test_size = 0.3, random_state=42)\n",
        "# best_pipe_2.fit(X_train3,y)\n",
        "# y_test_pred3 = best_pipe_2.predict(X_test3)"
      ],
      "execution_count": null,
      "outputs": []
    },
    {
      "cell_type": "code",
      "metadata": {
        "id": "3ynugtVJAHWX"
      },
      "source": [
        "# Create new data:\n",
        "client_data = pd.DataFrame({'Client': [1,2,3],\n",
        "                            'RM': [5,4,8],\n",
        "                            'LSTAT': [17,32,3],\n",
        "                            'PTRATIO': [15,22,12]})\n",
        "client_data = client_data.set_index('Client')\n",
        "\n",
        "### Predict House Price:\n",
        "best_model = grid_model.best_estimator_ # get best model (degree 2) from GridSearch (already fit by best_estimator_)\n",
        "# Predict house price (degree 2):\n",
        "client_preds = best_model.predict(client_data)\n",
        "\n",
        "best_model_2 = grid_model_2.best_estimator_ # get best model (degree 3) from GridSearch\n",
        "# Predict with degree 3\n",
        "client_preds_2 = best_model_2.predict(client_data)"
      ],
      "execution_count": null,
      "outputs": []
    },
    {
      "cell_type": "markdown",
      "metadata": {
        "id": "c91GcJAK_g1W"
      },
      "source": [
        "After you have your variable `client_preds`, run this code to visualize your predictions against the home prices (MEDV)\n",
        "\n",
        "```python\n",
        "import matplotlib.pyplot as plt\n",
        "for i,price in enumerate(client_preds):\n",
        "    plt.hist(y, bins = 30,color='r',ec='black')\n",
        "    plt.axvline(price, lw = 3)\n",
        "    plt.text(price-50000, 40, 'Client '+str(i+1), rotation=90)\n",
        "```\n",
        "\n",
        "Note that \n",
        "- `client_preds` should be a vector of size 3 (since we only have 3 records in the new test set) \n",
        "- `y` should be the column MEDV in the dataset you use to train"
      ]
    },
    {
      "cell_type": "code",
      "metadata": {
        "id": "LwoWyxr4BEcU",
        "colab": {
          "base_uri": "https://localhost:8080/",
          "height": 405
        },
        "outputId": "fe5b6308-10a1-41bb-b593-5ccc96da86fc"
      },
      "source": [
        "# Plot Predicted price\n",
        "import matplotlib.pyplot as plt\n",
        "plt.figure(figsize = (18,6))\n",
        "plt.subplot(121)\n",
        "for i,price in enumerate(client_preds):\n",
        "    plt.hist(y, bins = 30,color='salmon',ec='black')\n",
        "    plt.axvline(price, lw = 3)\n",
        "    plt.text(price-50000, 40, 'Client '+str(i+1), rotation=90)\n",
        "    plt.xlabel('Price')\n",
        "    plt.ylabel('Frequency')\n",
        "    plt.title('Predictions using degree 2', size = 14)\n",
        "\n",
        "plt.subplot(122)\n",
        "for i,price in enumerate(client_preds_2):\n",
        "    plt.hist(y, bins = 30,color='salmon',ec='black')\n",
        "    plt.axvline(price, lw = 3)\n",
        "    plt.text(price-50000, 40, 'Client '+str(i+1), rotation=90)\n",
        "    plt.xlabel('Price')\n",
        "    plt.ylabel('Frequency')\n",
        "    plt.title('Predictions using degree 3', size = 14)\n",
        "\n",
        "plt.show()"
      ],
      "execution_count": null,
      "outputs": [
        {
          "output_type": "display_data",
          "data": {
            "image/png": "[encoded data removed]",
            "text/plain": [
              "<Figure size 1296x432 with 2 Axes>"
            ]
          },
          "metadata": {
            "needs_background": "light"
          }
        }
      ]
    },
    {
      "cell_type": "code",
      "metadata": {
        "colab": {
          "base_uri": "https://localhost:8080/",
          "height": 173
        },
        "id": "ZG0XoNE33ydr",
        "outputId": "4ad5c596-2bc2-46ea-a935-204cdabce849"
      },
      "source": [
        "client_data"
      ],
      "execution_count": null,
      "outputs": [
        {
          "output_type": "execute_result",
          "data": {
            "text/html": [
              "<div>\n",
              "<style scoped>\n",
              "    .dataframe tbody tr th:only-of-type {\n",
              "        vertical-align: middle;\n",
              "    }\n",
              "\n",
              "    .dataframe tbody tr th {\n",
              "        vertical-align: top;\n",
              "    }\n",
              "\n",
              "    .dataframe thead th {\n",
              "        text-align: right;\n",
              "    }\n",
              "</style>\n",
              "<table border=\"1\" class=\"dataframe\">\n",
              "  <thead>\n",
              "    <tr style=\"text-align: right;\">\n",
              "      <th></th>\n",
              "      <th>RM</th>\n",
              "      <th>LSTAT</th>\n",
              "      <th>PTRATIO</th>\n",
              "    </tr>\n",
              "    <tr>\n",
              "      <th>Client</th>\n",
              "      <th></th>\n",
              "      <th></th>\n",
              "      <th></th>\n",
              "    </tr>\n",
              "  </thead>\n",
              "  <tbody>\n",
              "    <tr>\n",
              "      <th>1</th>\n",
              "      <td>5</td>\n",
              "      <td>17</td>\n",
              "      <td>15</td>\n",
              "    </tr>\n",
              "    <tr>\n",
              "      <th>2</th>\n",
              "      <td>4</td>\n",
              "      <td>32</td>\n",
              "      <td>22</td>\n",
              "    </tr>\n",
              "    <tr>\n",
              "      <th>3</th>\n",
              "      <td>8</td>\n",
              "      <td>3</td>\n",
              "      <td>12</td>\n",
              "    </tr>\n",
              "  </tbody>\n",
              "</table>\n",
              "</div>"
            ],
            "text/plain": [
              "        RM  LSTAT  PTRATIO\n",
              "Client                    \n",
              "1        5     17       15\n",
              "2        4     32       22\n",
              "3        8      3       12"
            ]
          },
          "metadata": {},
          "execution_count": 25
        }
      ]
    },
    {
      "cell_type": "code",
      "metadata": {
        "colab": {
          "base_uri": "https://localhost:8080/",
          "height": 235
        },
        "id": "MjQHqWP8kR5r",
        "outputId": "8eea8eaf-c1a2-4f97-dd35-ce798cca021c"
      },
      "source": [
        "df[(df['LSTAT'] > 30) & (df['LSTAT'] < 33)]"
      ],
      "execution_count": null,
      "outputs": [
        {
          "output_type": "execute_result",
          "data": {
            "text/html": [
              "<div>\n",
              "<style scoped>\n",
              "    .dataframe tbody tr th:only-of-type {\n",
              "        vertical-align: middle;\n",
              "    }\n",
              "\n",
              "    .dataframe tbody tr th {\n",
              "        vertical-align: top;\n",
              "    }\n",
              "\n",
              "    .dataframe thead th {\n",
              "        text-align: right;\n",
              "    }\n",
              "</style>\n",
              "<table border=\"1\" class=\"dataframe\">\n",
              "  <thead>\n",
              "    <tr style=\"text-align: right;\">\n",
              "      <th></th>\n",
              "      <th>RM</th>\n",
              "      <th>LSTAT</th>\n",
              "      <th>PTRATIO</th>\n",
              "      <th>MEDV</th>\n",
              "    </tr>\n",
              "  </thead>\n",
              "  <tbody>\n",
              "    <tr>\n",
              "      <th>49</th>\n",
              "      <td>5.399</td>\n",
              "      <td>30.81</td>\n",
              "      <td>17.9</td>\n",
              "      <td>302400.0</td>\n",
              "    </tr>\n",
              "    <tr>\n",
              "      <th>368</th>\n",
              "      <td>4.368</td>\n",
              "      <td>30.63</td>\n",
              "      <td>20.2</td>\n",
              "      <td>184800.0</td>\n",
              "    </tr>\n",
              "    <tr>\n",
              "      <th>369</th>\n",
              "      <td>5.277</td>\n",
              "      <td>30.81</td>\n",
              "      <td>20.2</td>\n",
              "      <td>151200.0</td>\n",
              "    </tr>\n",
              "    <tr>\n",
              "      <th>371</th>\n",
              "      <td>5.000</td>\n",
              "      <td>31.99</td>\n",
              "      <td>20.2</td>\n",
              "      <td>155400.0</td>\n",
              "    </tr>\n",
              "    <tr>\n",
              "      <th>372</th>\n",
              "      <td>4.880</td>\n",
              "      <td>30.62</td>\n",
              "      <td>20.2</td>\n",
              "      <td>214200.0</td>\n",
              "    </tr>\n",
              "    <tr>\n",
              "      <th>382</th>\n",
              "      <td>5.453</td>\n",
              "      <td>30.59</td>\n",
              "      <td>20.2</td>\n",
              "      <td>105000.0</td>\n",
              "    </tr>\n",
              "  </tbody>\n",
              "</table>\n",
              "</div>"
            ],
            "text/plain": [
              "        RM  LSTAT  PTRATIO      MEDV\n",
              "49   5.399  30.81     17.9  302400.0\n",
              "368  4.368  30.63     20.2  184800.0\n",
              "369  5.277  30.81     20.2  151200.0\n",
              "371  5.000  31.99     20.2  155400.0\n",
              "372  4.880  30.62     20.2  214200.0\n",
              "382  5.453  30.59     20.2  105000.0"
            ]
          },
          "metadata": {},
          "execution_count": 27
        }
      ]
    },
    {
      "cell_type": "code",
      "metadata": {
        "colab": {
          "base_uri": "https://localhost:8080/"
        },
        "id": "-lnpY8GLj4Lb",
        "outputId": "24395c3a-1415-4674-a72e-3b16bf087cfd"
      },
      "source": [
        "df[(df['LSTAT'] > 30) & (df['LSTAT'] < 33)]['MEDV'].median()"
      ],
      "execution_count": null,
      "outputs": [
        {
          "output_type": "execute_result",
          "data": {
            "text/plain": [
              "170100.0"
            ]
          },
          "metadata": {},
          "execution_count": 28
        }
      ]
    },
    {
      "cell_type": "code",
      "metadata": {
        "colab": {
          "base_uri": "https://localhost:8080/"
        },
        "id": "QOfgf1RgrSxI",
        "outputId": "8e5bc906-4caa-475f-d502-52d7d5d064d6"
      },
      "source": [
        "print(f'Degree 2 predictions:',client_preds)\n",
        "print(f'Degree 3 predictions:',client_preds_2)"
      ],
      "execution_count": null,
      "outputs": [
        {
          "output_type": "stream",
          "text": [
            "Degree 2 predictions: [ 327950.18390708  347416.94630115 1020603.8898358 ]\n",
            "Degree 3 predictions: [ 347348.43988885  130598.6795371  1098234.85090189]\n"
          ],
          "name": "stdout"
        }
      ]
    },
    {
      "cell_type": "code",
      "metadata": {
        "id": "z2CU5bb2_aDZ"
      },
      "source": [
        "# fig,ax = plt.subplots(1,3, figsize=(18,6))\n",
        "\n",
        "# sns.regplot(y=y_test_pred,x=y_test, ax=ax[0])\n",
        "# ax[0].set_title(\"Actual vs Predicted prices - LinearReg\")\n",
        "\n",
        "# sns.regplot(y=y_test_pred2,x=y_test2,ax=ax[1])\n",
        "# ax[1].set_yticks(ticks=[0,200000,400000,600000,800000])\n",
        "# ax[1].set_title(\"Actual vs Predicted prices - 2nd degree PolyReg\")\n",
        "\n",
        "# sns.regplot(y=y_test_pred3,x=y_test3,ax=ax[2])\n",
        "# ax[2].set_yticks(ticks=[0,200000,400000,600000,800000])\n",
        "# ax[2].set_title(\"Actual vs Predicted prices - 3rd degree PolyReg\")\n",
        "\n",
        "# plt.tight_layout(pad=2)\n",
        "# plt.show()"
      ],
      "execution_count": null,
      "outputs": []
    },
    {
      "cell_type": "markdown",
      "metadata": {
        "id": "5TjIFnYmBEwr"
      },
      "source": [
        "Do these prices seem reasonable given the values for the respective features?"
      ]
    },
    {
      "cell_type": "markdown",
      "metadata": {
        "id": "ApnjeIHum6Qs"
      },
      "source": [
        "**Answer:**\n",
        "\n",
        "The predictions using Pipeline 2 with degree 3 seem more reasonable. The most remarkable difference between the two poylynomial degrees is the predicted price for Client 2\n",
        "\n",
        "Pipeline 2 with degree 3 is more reasonable because \n",
        "\n",
        "  - It accounts for the high LSTAT value of client 2 better than degree 2\n",
        "\n",
        "  - It doesn't make sense when client 2 has higher housing price than client 1 when all of its 3 features are worse than client 1's\n",
        "\n",
        "However, in general, the predictions for both degree are pretty similar when plotting Actual vs. Predicted prices\n",
        "\n"
      ]
    },
    {
      "cell_type": "markdown",
      "metadata": {
        "id": "Wwq9I7Nor0CP"
      },
      "source": [
        "# Step 6: Applicability\n",
        "\n",
        "In a few sentences, discuss whether the constructed model should or should not be used in a real-world setting.\n",
        "\n",
        "Hint: Take a look at the range in prices as calculated in the code snippet above. Some questions to answering:\n",
        "\n",
        "- How relevant today is data that was collected from 1978? How important is inflation?\n",
        "- Are the features present in the data sufficient to describe a home? Do you think factors like quality of apppliances in the home, square feet of the plot area, presence of pool or not etc should factor in?\n",
        "- Is the model robust enough to make consistent predictions?\n",
        "Would data collected in an urban city like Boston be applicable in a rural city?\n",
        "- Is it fair to judge the price of an individual home based on the characteristics of the entire neighborhood?"
      ]
    },
    {
      "cell_type": "markdown",
      "metadata": {
        "id": "m_8Z-GSAvFWY"
      },
      "source": [
        "**Answer:**\n",
        "\n",
        "- This dataset is 43 years old so it will not be relevant to today's housing price. Housing price has a tendency to increase overtime (due to inflation, increasing demand, migration from rural to urban areas,etc.). Inflation is very important to consider when using a dataset from a long time ago to predict prices\n",
        "\n",
        "- Using only 3 features above is not sufficient to predict a housing price. In reality, house price depends on more factors including location, size, age & condition, appliances, etc.\n",
        "\n",
        "- This model is not robust enough to be used in reality for prediction purpose. In addition to the reason above, this model uses data collected from Boston city, which has huge difference from other rural cities in terms of population density, types of economics, and Moreover, housing prices in urban areas are usually more expensive than in rural areas.\n",
        "\n",
        "- When judging a house's price, one should always take into account its neibourhood. However, it's not recommended to depend solely on it. Sometimes, there will be exceptions where a bad neighbourhood has the best house and good neighbourhood has the worst house. A good realtor will be able to adjust the price based on combination of many features using their domain knowledge"
      ]
    }
  ]
}
